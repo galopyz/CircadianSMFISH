{
 "cells": [
  {
   "cell_type": "markdown",
   "id": "0308661e",
   "metadata": {},
   "source": [
    "## C1"
   ]
  },
  {
   "cell_type": "code",
   "execution_count": 1,
   "id": "c98cad28",
   "metadata": {},
   "outputs": [],
   "source": [
    "#!/usr/bin/env python3\n",
    "# -*- coding: utf-8 -*-\n",
    "\n",
    "import pandas as pd\n",
    "import stan\n",
    "import numpy as np\n",
    "import matplotlib.pyplot as plt \n",
    "from matplotlib import cm\n",
    "from scipy import stats\n",
    "from scipy.stats import pearsonr\n",
    "import pickle\n",
    "from psis import psisloo as ps\n",
    "\n",
    "FONT_SIZE = 8\n",
    "\n",
    "plt.rc('font', size=FONT_SIZE)          # controls default text sizes\n",
    "plt.rc('axes', titlesize=FONT_SIZE)     # fontsize of the axes title\n",
    "plt.rc('axes', labelsize=FONT_SIZE)    # fontsize of the x and y labels\n",
    "plt.rc('xtick', labelsize=FONT_SIZE)    # fontsize of the tick labels\n",
    "plt.rc('ytick', labelsize=FONT_SIZE)    # fontsize of the tick labels\n",
    "plt.rc('legend', fontsize=FONT_SIZE)    # legend fontsize\n",
    "plt.rc('figure', titlesize=FONT_SIZE)  # fontsize of the figure title\n",
    "plt.rcParams['pdf.fonttype'] = 42"
   ]
  },
  {
   "cell_type": "code",
   "execution_count": 2,
   "id": "6f1e821c",
   "metadata": {},
   "outputs": [],
   "source": [
    "#%%\n",
    "# load model fits and calculate PSIS-LOO\n",
    "\n",
    "sm = pickle.load(open('model_1.pkl', 'rb'))\n",
    "fit = pickle.load(open('fit_1.pkl', 'rb'))     \n",
    "a = fit\n",
    "log_lik = np.hstack((a['log_lik1'].T,a['log_lik2'].T,a['log_lik3'].T,a['log_lik4'].T))\n",
    "looM1, loosM1, ksM1 = ps(log_lik)"
   ]
  },
  {
   "cell_type": "code",
   "execution_count": 3,
   "id": "7d572a4b",
   "metadata": {},
   "outputs": [],
   "source": [
    "sm = pickle.load(open('model_2.pkl', 'rb'))\n",
    "fit = pickle.load(open('fit_2.pkl', 'rb')) \n",
    "a = fit\n",
    "log_lik = np.hstack((a['log_lik1'].T,a['log_lik2'].T,a['log_lik3'].T,a['log_lik4'].T))\n",
    "looM2, loosM2, ksM2 = ps(log_lik)"
   ]
  },
  {
   "cell_type": "code",
   "execution_count": 4,
   "id": "acb32f8d",
   "metadata": {},
   "outputs": [],
   "source": [
    "sm = pickle.load(open('model_3.pkl', 'rb'))\n",
    "fit = pickle.load(open('fit_3.pkl', 'rb')) \n",
    "a = fit\n",
    "\n",
    "chain_length = 1000\n",
    "num_chains = 8\n",
    "\n",
    "lik_chain = np.zeros(num_chains)\n",
    "    \n",
    "for chain in range(num_chains):\n",
    "    lik_chain_curr = np.hstack((a['log_lik1'].T[chain*chain_length:chain*chain_length+chain_length],\n",
    "                                a['log_lik2'].T[chain*chain_length:chain*chain_length+chain_length],\n",
    "                                a['log_lik3'].T[chain*chain_length:chain*chain_length+chain_length],\n",
    "                                a['log_lik4'].T[chain*chain_length:chain*chain_length+chain_length]))\n",
    "    lik_chain[chain] = np.sum(np.mean(lik_chain_curr,axis=0))"
   ]
  },
  {
   "cell_type": "code",
   "execution_count": 5,
   "id": "d28bcf6c",
   "metadata": {},
   "outputs": [],
   "source": [
    "best_chain = np.argmax(lik_chain)\n",
    "    \n",
    "log_lik = np.hstack((a['log_lik1'].T[best_chain*chain_length:best_chain*chain_length+chain_length],\n",
    "                     a['log_lik2'].T[best_chain*chain_length:best_chain*chain_length+chain_length],\n",
    "                     a['log_lik3'].T[best_chain*chain_length:best_chain*chain_length+chain_length],\n",
    "                     a['log_lik4'].T[best_chain*chain_length:best_chain*chain_length+chain_length]))\n",
    "looM3, loosM3, ksM3 = ps(log_lik)"
   ]
  },
  {
   "cell_type": "code",
   "execution_count": 6,
   "id": "588087c2",
   "metadata": {},
   "outputs": [
    {
     "name": "stderr",
     "output_type": "stream",
     "text": [
      "/scratch/user/shipalnomoo/git/CircadianSMFISH/Code/psis.py:294: RuntimeWarning: overflow encountered in exp\n",
      "  np.exp(temp, out=temp)\n"
     ]
    }
   ],
   "source": [
    "sm = pickle.load(open('model_4.pkl', 'rb'))\n",
    "fit = pickle.load(open('fit_4.pkl', 'rb')) \n",
    "a = fit\n",
    "log_lik = np.hstack((a['log_lik1'].T,\n",
    "                     a['log_lik2'].T,\n",
    "                     a['log_lik3'].T,\n",
    "                     a['log_lik4'].T))\n",
    "looM4, loosM4, ksM4 = ps(log_lik)"
   ]
  },
  {
   "cell_type": "code",
   "execution_count": 7,
   "id": "8c72fe9d",
   "metadata": {},
   "outputs": [
    {
     "data": {
      "image/png": "[encoded data removed]",
      "text/plain": [
       "<Figure size 196.85x137.795 with 1 Axes>"
      ]
     },
     "metadata": {},
     "output_type": "display_data"
    }
   ],
   "source": [
    "#%%\n",
    "fig = plt.figure(figsize=(5/2.54,3.5/2.54))\n",
    "plt.bar(range(4),[looM1,looM2,looM3,looM4],tick_label = ['M1','M2','M3','M4'])\n",
    "plt.ylim([-44250,-42250])\n",
    "plt.ylabel('PSIS-LOO')\n",
    "plt.tight_layout()   "
   ]
  },
  {
   "cell_type": "code",
   "execution_count": 8,
   "id": "f7f5df3c",
   "metadata": {},
   "outputs": [],
   "source": [
    "#%%\n",
    "# load in required parameters from model M2 and model M4\n",
    "\n",
    "sm = pickle.load(open('model_2.pkl', 'rb'))\n",
    "fit = pickle.load(open('fit_2.pkl', 'rb')) \n",
    "    \n",
    "a = fit"
   ]
  },
  {
   "cell_type": "code",
   "execution_count": 9,
   "id": "7961aa24",
   "metadata": {},
   "outputs": [],
   "source": [
    "freq_scaleCry1 = a['freq_scaleCry1'].T.squeeze()\n",
    "freq_scaleNr1d1 = a['freq_scaleNr1d1'].T.squeeze()\n",
    "freq_scaleBmal1 = a['freq_scaleBmal1'].T.squeeze()\n",
    "beta_Cry1 = a['beta_v_Cry1'].T.squeeze()\n",
    "beta_Nr1d1 = a['beta_v_Nr1d1'].T.squeeze()\n",
    "beta_Bmal1 = a['beta_v_Bmal1'].T.squeeze()"
   ]
  },
  {
   "cell_type": "code",
   "execution_count": 10,
   "id": "182afe1d",
   "metadata": {},
   "outputs": [],
   "source": [
    "sm = pickle.load(open('model_4.pkl', 'rb'))\n",
    "fit = pickle.load(open('fit_4.pkl', 'rb')) \n",
    "    \n",
    "a = fit"
   ]
  },
  {
   "cell_type": "code",
   "execution_count": 11,
   "id": "03a75f96",
   "metadata": {},
   "outputs": [],
   "source": [
    "burstalphaCry1 = a['burstCry1'].T.squeeze()\n",
    "burstalphaNr1d1 = a['burstNr1d1'].T.squeeze()\n",
    "burstalphaBmal1 = a['burstBmal1'].T.squeeze()\n",
    "stdevCry1 = a['stdevCry1'].T.squeeze()\n",
    "stdevNr1d1 = a['stdevNr1d1'].T.squeeze()\n",
    "stdevBmal1 = a['stdevBmal1'].T.squeeze()\n",
    "corrRC = a['corr_RC'].T[:,0,1]\n",
    "corrBC = a['corr_BC'].T[:,0,1]"
   ]
  },
  {
   "cell_type": "code",
   "execution_count": 12,
   "id": "2e2e6a79",
   "metadata": {},
   "outputs": [
    {
     "data": {
      "text/plain": [
       "<Figure size 700.787x590.551 with 0 Axes>"
      ]
     },
     "metadata": {},
     "output_type": "display_data"
    }
   ],
   "source": [
    "Nr1d1_params, Cry1_params, Bmal1_params = pickle.load(open('FourierParams.pkl', 'rb'))\n",
    "#%%\n",
    "# plot posterior parameter values\n",
    "\n",
    "fig = plt.figure(figsize=(17.8/2.54,15/2.54))\n",
    "\n",
    "xtest = np.linspace(17,42,100)\n",
    "\n",
    "def func(x, A0, A1, A2, phi_1, phi_2):\n",
    "    w = 2 * np.pi / 24 \n",
    "    y = A0/2 + A1*np.cos(w*x-phi_1) + A2*np.cos(2*w*x-phi_2)\n",
    "    return y.flatten()\n",
    "\n",
    "def plot_burstfreq(xtest,Fourier_params,freq_scale):\n",
    "    pred_lower = func(xtest, *Fourier_params)*np.percentile(freq_scale, 5)\n",
    "    pred_median = func(xtest, *Fourier_params)*np.percentile(freq_scale, 50)\n",
    "    pred_upper = func(xtest, *Fourier_params)*np.percentile(freq_scale, 95)\n",
    "    return pred_lower, pred_median, pred_upper"
   ]
  },
  {
   "cell_type": "code",
   "execution_count": 13,
   "id": "f0019722",
   "metadata": {},
   "outputs": [
    {
     "data": {
      "text/plain": [
       "Text(0.5, 0, 'Time(hours)')"
      ]
     },
     "execution_count": 13,
     "metadata": {},
     "output_type": "execute_result"
    },
    {
     "data": {
      "image/png": "[encoded data removed]",
      "text/plain": [
       "<Figure size 640x480 with 1 Axes>"
      ]
     },
     "metadata": {},
     "output_type": "display_data"
    }
   ],
   "source": [
    "plt.subplot(5,4,5)\n",
    "pred_lower, pred_median, pred_upper = plot_burstfreq(xtest,Nr1d1_params,freq_scaleNr1d1)\n",
    "plt.plot(xtest, pred_median,color='b',label='Nr1d1')\n",
    "plt.fill_between(xtest, pred_lower, pred_upper,alpha=0.5)\n",
    "\n",
    "pred_lower, pred_median, pred_upper = plot_burstfreq(xtest,Cry1_params,freq_scaleCry1)\n",
    "plt.plot(xtest, pred_median,color='g',label='Cry1')\n",
    "plt.fill_between(xtest, pred_lower, pred_upper,alpha=0.5)\n",
    "\n",
    "pred_lower, pred_median, pred_upper = plot_burstfreq(xtest,Bmal1_params,freq_scaleBmal1)\n",
    "plt.plot(xtest, pred_median,color='r',label='Bmal1')\n",
    "plt.fill_between(xtest, pred_lower, pred_upper,alpha=0.5)\n",
    "\n",
    "plt.title(r'Burst freq (mRNA lifespan$^{-1}$)')\n",
    "plt.xlabel('Time(hours)')"
   ]
  },
  {
   "cell_type": "code",
   "execution_count": 42,
   "id": "04ed20cd",
   "metadata": {},
   "outputs": [
    {
     "data": {
      "text/plain": [
       "[<matplotlib.lines.Line2D at 0x2af6c5335c90>]"
      ]
     },
     "execution_count": 42,
     "metadata": {},
     "output_type": "execute_result"
    },
    {
     "data": {
      "image/png": "[encoded data removed]",
      "text/plain": [
       "<Figure size 640x480 with 1 Axes>"
      ]
     },
     "metadata": {},
     "output_type": "display_data"
    }
   ],
   "source": [
    "pred_lower, pred_median, pred_upper = plot_burstfreq(xtest,Nr1d1_params,freq_scaleNr1d1)\n",
    "plt.plot(xtest, pred_median,color='b',label='Nr1d1')"
   ]
  },
  {
   "cell_type": "code",
   "execution_count": 46,
   "id": "b3ef71b9",
   "metadata": {},
   "outputs": [],
   "source": [
    "_, Nr1d1_pred_median, _ = plot_burstfreq(xtest,Nr1d1_params,freq_scaleNr1d1)\n",
    "_, Cry1_pred_median, _ = plot_burstfreq(xtest,Cry1_params,freq_scaleCry1)\n",
    "_, Bmal1_pred_median, _ = plot_burstfreq(xtest,Bmal1_params,freq_scaleBmal1)"
   ]
  },
  {
   "cell_type": "code",
   "execution_count": 48,
   "id": "3d1ad68c",
   "metadata": {},
   "outputs": [
    {
     "data": {
      "text/html": [
       "<div>\n",
       "<style scoped>\n",
       "    .dataframe tbody tr th:only-of-type {\n",
       "        vertical-align: middle;\n",
       "    }\n",
       "\n",
       "    .dataframe tbody tr th {\n",
       "        vertical-align: top;\n",
       "    }\n",
       "\n",
       "    .dataframe thead th {\n",
       "        text-align: right;\n",
       "    }\n",
       "</style>\n",
       "<table border=\"1\" class=\"dataframe\">\n",
       "  <thead>\n",
       "    <tr style=\"text-align: right;\">\n",
       "      <th></th>\n",
       "      <th>Nr1d1</th>\n",
       "      <th>Cry1</th>\n",
       "      <th>Bmal1</th>\n",
       "    </tr>\n",
       "  </thead>\n",
       "  <tbody>\n",
       "    <tr>\n",
       "      <th>17.000000</th>\n",
       "      <td>1.790081</td>\n",
       "      <td>2.854343</td>\n",
       "      <td>4.980522</td>\n",
       "    </tr>\n",
       "    <tr>\n",
       "      <th>17.252525</th>\n",
       "      <td>1.795484</td>\n",
       "      <td>2.835302</td>\n",
       "      <td>5.030050</td>\n",
       "    </tr>\n",
       "    <tr>\n",
       "      <th>17.505051</th>\n",
       "      <td>1.801932</td>\n",
       "      <td>2.818567</td>\n",
       "      <td>5.074988</td>\n",
       "    </tr>\n",
       "    <tr>\n",
       "      <th>17.757576</th>\n",
       "      <td>1.809728</td>\n",
       "      <td>2.804548</td>\n",
       "      <td>5.114625</td>\n",
       "    </tr>\n",
       "    <tr>\n",
       "      <th>18.010101</th>\n",
       "      <td>1.819145</td>\n",
       "      <td>2.793646</td>\n",
       "      <td>5.148295</td>\n",
       "    </tr>\n",
       "  </tbody>\n",
       "</table>\n",
       "</div>"
      ],
      "text/plain": [
       "              Nr1d1      Cry1     Bmal1\n",
       "17.000000  1.790081  2.854343  4.980522\n",
       "17.252525  1.795484  2.835302  5.030050\n",
       "17.505051  1.801932  2.818567  5.074988\n",
       "17.757576  1.809728  2.804548  5.114625\n",
       "18.010101  1.819145  2.793646  5.148295"
      ]
     },
     "execution_count": 48,
     "metadata": {},
     "output_type": "execute_result"
    }
   ],
   "source": [
    "burst_freq_df = pd.DataFrame({'Nr1d1': Nr1d1_pred_median,\n",
    "                             'Cry1': Cry1_pred_median,\n",
    "                             'Bmal1': Bmal1_pred_median},\n",
    "                             index=xtest)\n",
    "burst_freq_df.head()"
   ]
  },
  {
   "cell_type": "code",
   "execution_count": 49,
   "id": "5327eac7",
   "metadata": {},
   "outputs": [],
   "source": [
    "burst_freq_df.to_csv('burst_freq.csv')"
   ]
  },
  {
   "cell_type": "markdown",
   "id": "fed57aa0",
   "metadata": {},
   "source": [
    "## C2"
   ]
  },
  {
   "cell_type": "code",
   "execution_count": 14,
   "id": "0cb87f6b",
   "metadata": {},
   "outputs": [],
   "source": [
    "def plot_posterior(Nr1d1,Cry1,Bmal1,x_lower,x_upper,y_upper,i):\n",
    "    \n",
    "    plt.subplot(5,4,i)\n",
    "    \n",
    "    xx = np.linspace(x_lower, x_upper, 1000) \n",
    "    \n",
    "    kde = stats.gaussian_kde(Nr1d1)\n",
    "    plt.plot(xx, kde(xx)/sum(kde(xx)),color='b',label='Nr1d1')\n",
    "    \n",
    "    kde = stats.gaussian_kde(Cry1)\n",
    "    plt.plot(xx, kde(xx)/sum(kde(xx)),color='g',label='Cry1')  \n",
    "\n",
    "    kde = stats.gaussian_kde(Bmal1)\n",
    "    plt.plot(xx, kde(xx)/sum(kde(xx)),color='r',label='Bmal1')\n",
    "    \n",
    "    plt.xlim((x_lower,x_upper))\n",
    "    plt.ylim((0,y_upper))\n",
    "    plt.yticks([])"
   ]
  },
  {
   "cell_type": "code",
   "execution_count": 15,
   "id": "6015f62c",
   "metadata": {},
   "outputs": [],
   "source": [
    "def mean_burstsize(mu,std): return np.exp(mu+std**2/2)"
   ]
  },
  {
   "cell_type": "code",
   "execution_count": 16,
   "id": "1c7c5116",
   "metadata": {},
   "outputs": [
    {
     "data": {
      "text/plain": [
       "((96000,), (96000,))"
      ]
     },
     "execution_count": 16,
     "metadata": {},
     "output_type": "execute_result"
    }
   ],
   "source": [
    "burstalphaNr1d1.shape, stdevNr1d1.shape, "
   ]
  },
  {
   "cell_type": "code",
   "execution_count": 17,
   "id": "f26befd0",
   "metadata": {},
   "outputs": [
    {
     "data": {
      "text/plain": [
       "((96000,), (96000,))"
      ]
     },
     "execution_count": 17,
     "metadata": {},
     "output_type": "execute_result"
    }
   ],
   "source": [
    "burstalphaCry1.shape, stdevCry1.shape"
   ]
  },
  {
   "cell_type": "code",
   "execution_count": 18,
   "id": "72c4c4bd",
   "metadata": {},
   "outputs": [
    {
     "data": {
      "text/plain": [
       "((96000,), (96000,))"
      ]
     },
     "execution_count": 18,
     "metadata": {},
     "output_type": "execute_result"
    }
   ],
   "source": [
    "burstalphaBmal1.shape, stdevBmal1.shape"
   ]
  },
  {
   "cell_type": "code",
   "execution_count": 19,
   "id": "94469052",
   "metadata": {},
   "outputs": [
    {
     "data": {
      "text/plain": [
       "((96000,), (96000,), (96000,))"
      ]
     },
     "execution_count": 19,
     "metadata": {},
     "output_type": "execute_result"
    }
   ],
   "source": [
    "beta_Nr1d1.shape, beta_Cry1.shape, beta_Bmal1.shape"
   ]
  },
  {
   "cell_type": "code",
   "execution_count": 20,
   "id": "81ed066b",
   "metadata": {},
   "outputs": [
    {
     "data": {
      "text/plain": [
       "<Axes: >"
      ]
     },
     "execution_count": 20,
     "metadata": {},
     "output_type": "execute_result"
    },
    {
     "data": {
      "image/png": "[encoded data removed]",
      "text/plain": [
       "<Figure size 640x480 with 3 Axes>"
      ]
     },
     "metadata": {},
     "output_type": "display_data"
    }
   ],
   "source": [
    "plot_posterior(mean_burstsize(burstalphaNr1d1,stdevNr1d1),\n",
    "               mean_burstsize(burstalphaCry1,stdevCry1),\n",
    "               mean_burstsize(burstalphaBmal1,stdevBmal1),\n",
    "               0,15,0.25,6)\n",
    "plt.title(r'Avg burst size')\n",
    "plt.ylabel('Density')\n",
    "legend = plt.legend(loc='upper right', shadow=True)\n",
    "\n",
    "plot_posterior(beta_Nr1d1,beta_Cry1,beta_Bmal1,0.4,0.8,0.015,7)\n",
    "plt.title(r'$\\beta$')\n",
    "\n",
    "plt.subplot(5,4,8)  "
   ]
  },
  {
   "cell_type": "code",
   "execution_count": 26,
   "id": "98dc8d36",
   "metadata": {},
   "outputs": [
    {
     "data": {
      "text/plain": [
       "Text(0, 0.5, 'Density')"
      ]
     },
     "execution_count": 26,
     "metadata": {},
     "output_type": "execute_result"
    },
    {
     "data": {
      "image/png": "[encoded data removed]",
      "text/plain": [
       "<Figure size 640x480 with 1 Axes>"
      ]
     },
     "metadata": {},
     "output_type": "display_data"
    }
   ],
   "source": [
    "plot_posterior(mean_burstsize(burstalphaNr1d1,stdevNr1d1),\n",
    "               mean_burstsize(burstalphaCry1,stdevCry1),\n",
    "               mean_burstsize(burstalphaBmal1,stdevBmal1),\n",
    "               0,15,0.25,6)\n",
    "plt.title(r'Avg burst size')\n",
    "plt.ylabel('Density')\n",
    "# legend = plt.legend(loc='upper right', shadow=True)"
   ]
  },
  {
   "cell_type": "code",
   "execution_count": 54,
   "id": "33ca6a8e",
   "metadata": {},
   "outputs": [
    {
     "data": {
      "text/html": [
       "<div>\n",
       "<style scoped>\n",
       "    .dataframe tbody tr th:only-of-type {\n",
       "        vertical-align: middle;\n",
       "    }\n",
       "\n",
       "    .dataframe tbody tr th {\n",
       "        vertical-align: top;\n",
       "    }\n",
       "\n",
       "    .dataframe thead th {\n",
       "        text-align: right;\n",
       "    }\n",
       "</style>\n",
       "<table border=\"1\" class=\"dataframe\">\n",
       "  <thead>\n",
       "    <tr style=\"text-align: right;\">\n",
       "      <th></th>\n",
       "      <th>Nr1d1</th>\n",
       "      <th>Cry1</th>\n",
       "      <th>Bmal1</th>\n",
       "    </tr>\n",
       "  </thead>\n",
       "  <tbody>\n",
       "    <tr>\n",
       "      <th>0</th>\n",
       "      <td>14.093145</td>\n",
       "      <td>3.290477</td>\n",
       "      <td>6.954935</td>\n",
       "    </tr>\n",
       "    <tr>\n",
       "      <th>1</th>\n",
       "      <td>13.576567</td>\n",
       "      <td>3.326731</td>\n",
       "      <td>7.125061</td>\n",
       "    </tr>\n",
       "    <tr>\n",
       "      <th>2</th>\n",
       "      <td>13.468377</td>\n",
       "      <td>3.259950</td>\n",
       "      <td>7.075510</td>\n",
       "    </tr>\n",
       "    <tr>\n",
       "      <th>3</th>\n",
       "      <td>14.240990</td>\n",
       "      <td>3.322705</td>\n",
       "      <td>7.136895</td>\n",
       "    </tr>\n",
       "    <tr>\n",
       "      <th>4</th>\n",
       "      <td>14.128152</td>\n",
       "      <td>3.286206</td>\n",
       "      <td>7.127920</td>\n",
       "    </tr>\n",
       "  </tbody>\n",
       "</table>\n",
       "</div>"
      ],
      "text/plain": [
       "       Nr1d1      Cry1     Bmal1\n",
       "0  14.093145  3.290477  6.954935\n",
       "1  13.576567  3.326731  7.125061\n",
       "2  13.468377  3.259950  7.075510\n",
       "3  14.240990  3.322705  7.136895\n",
       "4  14.128152  3.286206  7.127920"
      ]
     },
     "execution_count": 54,
     "metadata": {},
     "output_type": "execute_result"
    }
   ],
   "source": [
    "burst_size_df = pd.DataFrame({'Nr1d1': mean_burstsize(burstalphaNr1d1,stdevNr1d1),\n",
    "                              'Cry1': mean_burstsize(burstalphaCry1,stdevCry1),\n",
    "                              'Bmal1': mean_burstsize(burstalphaBmal1,stdevBmal1)})\n",
    "burst_size_df.head()"
   ]
  },
  {
   "cell_type": "code",
   "execution_count": 55,
   "id": "758fdbdf",
   "metadata": {},
   "outputs": [],
   "source": [
    "burst_size_df.to_csv('burst_size.csv')"
   ]
  },
  {
   "cell_type": "code",
   "execution_count": 21,
   "id": "2860acd1",
   "metadata": {},
   "outputs": [
    {
     "data": {
      "text/plain": [
       "Text(0.5, 1.0, '$\\\\rho$')"
      ]
     },
     "execution_count": 21,
     "metadata": {},
     "output_type": "execute_result"
    },
    {
     "data": {
      "image/png": "[encoded data removed]",
      "text/plain": [
       "<Figure size 640x480 with 1 Axes>"
      ]
     },
     "metadata": {},
     "output_type": "display_data"
    }
   ],
   "source": [
    "lower = -1\n",
    "upper = 1\n",
    "\n",
    "xx = np.linspace(lower, upper, 1000) \n",
    "\n",
    "kde = stats.gaussian_kde(corrRC)\n",
    "plt.plot(xx, kde(xx)/sum(kde(xx)),color='m',label='RC')\n",
    "kde = stats.gaussian_kde(corrBC)\n",
    "plt.plot(xx, kde(xx)/sum(kde(xx)),color='c',label='BC')\n",
    "\n",
    "legend = plt.legend(loc='upper right', shadow=True)\n",
    "\n",
    "plt.ylim((0,0.03))\n",
    "plt.yticks([])\n",
    "\n",
    "plt.xlim((lower,upper))\n",
    "plt.xticks(np.linspace(lower, upper, 5))\n",
    "\n",
    "plt.title(r'$\\rho$')"
   ]
  },
  {
   "cell_type": "markdown",
   "id": "b80d6506",
   "metadata": {},
   "source": [
    "## D"
   ]
  },
  {
   "cell_type": "code",
   "execution_count": 22,
   "id": "6f9f4576",
   "metadata": {},
   "outputs": [],
   "source": [
    "#plt.tight_layout()\n",
    "#%%\n",
    "# load smFISH data\n",
    "\n",
    "dat_RC = pd.read_csv('smFISH_RC.csv')\n",
    "\n",
    "jtime_RC = dat_RC['Time'].values\n",
    "AreaNormed_RC = dat_RC['AreaNormed'].values\n",
    "CountsNr1d1_RC = dat_RC['Counts Nr1d1'].values\n",
    "CountsCry1_RC = dat_RC['Counts Cry1'].values\n",
    "\n",
    "dat_BC = pd.read_csv('smFISH_BC.csv')\n",
    "\n",
    "jtime_BC = dat_BC['Time'].values\n",
    "AreaNormed_BC = dat_BC['AreaNormed'].values\n",
    "CountsBmal1_BC = dat_BC['Counts Bmal1'].values\n",
    "CountsCry1_BC = dat_BC['Counts Cry1'].values\n",
    "\n",
    "CountsCry1TOT = np.concatenate((CountsCry1_BC,CountsCry1_RC))\n",
    "jtime_Cry1TOT = np.concatenate((jtime_BC,jtime_RC))\n",
    "\n",
    "w = 2 * np.pi / 24 "
   ]
  },
  {
   "cell_type": "code",
   "execution_count": 23,
   "id": "025fa65f",
   "metadata": {},
   "outputs": [],
   "source": [
    "# load in required parameters from model M2 and model M4\n",
    "sm = pickle.load(open('model_2.pkl', 'rb'))\n",
    "fit = pickle.load(open('fit_2.pkl', 'rb')) \n",
    "    \n",
    "a = fit"
   ]
  },
  {
   "cell_type": "code",
   "execution_count": 24,
   "id": "09f5581d",
   "metadata": {},
   "outputs": [
    {
     "data": {
      "text/plain": [
       "((1, 96000), (1, 96000), (1, 96000), (1, 96000), (1, 96000), (1, 96000))"
      ]
     },
     "execution_count": 24,
     "metadata": {},
     "output_type": "execute_result"
    }
   ],
   "source": [
    "a['freq_scaleCry1'].shape, a['freq_scaleNr1d1'].shape, a['freq_scaleBmal1'].shape, a['beta_v_Cry1'].shape, a['beta_v_Nr1d1'].shape, a['beta_v_Bmal1'].shape "
   ]
  },
  {
   "cell_type": "code",
   "execution_count": 27,
   "id": "2cfa3e4e",
   "metadata": {},
   "outputs": [],
   "source": [
    "freq_scaleCry1 = np.mean(a['freq_scaleCry1'].T,axis=1).squeeze()\n",
    "freq_scaleNr1d1 = np.mean(a['freq_scaleNr1d1'].T,axis=1).squeeze()\n",
    "freq_scaleBmal1 = np.mean(a['freq_scaleBmal1'].T,axis=1).squeeze()\n",
    "beta_Cry1 = np.mean(a['beta_v_Cry1'].T,axis=1).squeeze()\n",
    "beta_Nr1d1 = np.mean(a['beta_v_Nr1d1'].T,axis=1).squeeze()\n",
    "beta_Bmal1 = np.mean(a['beta_v_Bmal1'].T,axis=1).squeeze()"
   ]
  },
  {
   "cell_type": "code",
   "execution_count": 28,
   "id": "57beb78a",
   "metadata": {},
   "outputs": [],
   "source": [
    "sm = pickle.load(open('model_4.pkl', 'rb'))\n",
    "fit = pickle.load(open('fit_4.pkl', 'rb')) \n",
    "    \n",
    "a = fit"
   ]
  },
  {
   "cell_type": "code",
   "execution_count": 29,
   "id": "e8ecd102",
   "metadata": {},
   "outputs": [
    {
     "data": {
      "text/plain": [
       "((2, 96000), (2, 2, 96000), (2, 96000), (2, 2, 96000))"
      ]
     },
     "execution_count": 29,
     "metadata": {},
     "output_type": "execute_result"
    }
   ],
   "source": [
    "a['mu_vec_RC'].shape, a['cov_RC'].shape, a['mu_vec_BC'].shape, a['cov_BC'].shape"
   ]
  },
  {
   "cell_type": "code",
   "execution_count": 34,
   "id": "b64e11ef",
   "metadata": {},
   "outputs": [],
   "source": [
    "mu_RC = np.mean(a['mu_vec_RC'].T,axis=1).squeeze()\n",
    "Cov_RC = np.mean(a['cov_RC'].T,axis=0).squeeze()\n",
    "\n",
    "mu_BC = np.mean(a['mu_vec_BC'].T,axis=1).squeeze()\n",
    "Cov_BC = np.mean(a['cov_BC'].T,axis=0).squeeze()\n",
    "\n",
    "Nr1d1_params, Cry1_params, Bmal1_params = pickle.load(open('FourierParams.pkl', 'rb'))\n",
    "#%%"
   ]
  },
  {
   "cell_type": "code",
   "execution_count": 41,
   "id": "243f405f",
   "metadata": {},
   "outputs": [
    {
     "data": {
      "text/plain": [
       "((96000,), (2, 2))"
      ]
     },
     "execution_count": 41,
     "metadata": {},
     "output_type": "execute_result"
    }
   ],
   "source": [
    "mu_RC.shape, Cov_RC.shape"
   ]
  },
  {
   "cell_type": "code",
   "execution_count": null,
   "id": "34191c76",
   "metadata": {},
   "outputs": [],
   "source": [
    "def kde_sims(params_x,params_y,freq_scale_x,freq_scale_y,beta_x,beta_y,mu,Cov,area,time_vec):\n",
    "    \n",
    "    time_vec = np.array([21,33])\n",
    "\n",
    "    x1_vec = range(100)\n",
    "    x2_vec = range(100)\n",
    "\n",
    "    its = 15\n",
    "    \n",
    "    kde_sims = np.zeros((len(x1_vec),len(x2_vec),len(time_vec)))\n",
    "    \n",
    "    y1 = np.zeros(its*len(area))\n",
    "    y2 = np.zeros(its*len(area))\n",
    "    \n",
    "    area_sims = np.repeat(area, its, axis=None)\n",
    "\n",
    "    for k, time_curr in enumerate(time_vec):\n",
    "        for n in range(len(area_sims)):\n",
    "            eta = np.random.multivariate_normal(mu,Cov)\n",
    "            r1 = freq_scale_x*(params_x[0]/2+params_x[1]*np.cos(time_curr*w-params_x[3])+params_x[2]*np.cos(2*time_curr*w-params_x[4]));\n",
    "            r2 = freq_scale_y*(params_y[0]/2+params_y[1]*np.cos(time_curr*w-params_y[3])+params_y[2]*np.cos(2*time_curr*w-params_y[4]));\n",
    "            b1 = np.exp(beta_x*np.log(area_sims[n])+eta[0]);\n",
    "            b2 = np.exp(beta_y*np.log(area_sims[n])+eta[1]);\n",
    "            m1 = b1*r1\n",
    "            m2 = b2*r2\n",
    "            p1 = r1/(m1+r1)\n",
    "            p2 = r2/(m2+r2)\n",
    "            y1[n] = np.random.negative_binomial(r1, p1)\n",
    "            y2[n] = np.random.negative_binomial(r2, p2)\n",
    "        \n",
    "        kde = stats.gaussian_kde(np.vstack((y1,y2)),bw_method='silverman')\n",
    "        for i, x1_curr in enumerate(x1_vec):\n",
    "            print(i)\n",
    "            for j, x2_curr in enumerate(x2_vec):\n",
    "                val = np.array([[x1_curr],[x2_curr]])\n",
    "                kde_sims[j,i,k] = kde(val)\n",
    "    return kde_sims            "
   ]
  },
  {
   "cell_type": "code",
   "execution_count": 38,
   "id": "b2d2d14c",
   "metadata": {},
   "outputs": [
    {
     "ename": "ValueError",
     "evalue": "mean and cov must have same length",
     "output_type": "error",
     "traceback": [
      "\u001b[0;31m---------------------------------------------------------------------------\u001b[0m",
      "\u001b[0;31mValueError\u001b[0m                                Traceback (most recent call last)",
      "Cell \u001b[0;32mIn[38], line 2\u001b[0m\n\u001b[1;32m      1\u001b[0m time_vec \u001b[38;5;241m=\u001b[39m np\u001b[38;5;241m.\u001b[39marray([\u001b[38;5;241m21\u001b[39m,\u001b[38;5;241m33\u001b[39m])\n\u001b[0;32m----> 2\u001b[0m kde_sims_BC \u001b[38;5;241m=\u001b[39m kde_sims(Cry1_params,Bmal1_params,freq_scaleCry1,freq_scaleBmal1,beta_Cry1,beta_Bmal1,mu_BC,Cov_BC,AreaNormed_BC,time_vec)\n\u001b[1;32m      3\u001b[0m kde_sims_RC \u001b[38;5;241m=\u001b[39m kde_sims(Cry1_params,Nr1d1_params,freq_scaleCry1,freq_scaleNr1d1,beta_Cry1,beta_Nr1d1,mu_RC,Cov_RC,AreaNormed_RC,time_vec)\n",
      "Cell \u001b[0;32mIn[37], line 19\u001b[0m, in \u001b[0;36mkde_sims\u001b[0;34m(params_x, params_y, freq_scale_x, freq_scale_y, beta_x, beta_y, mu, Cov, area, time_vec)\u001b[0m\n\u001b[1;32m     17\u001b[0m \u001b[38;5;28;01mfor\u001b[39;00m k, time_curr \u001b[38;5;129;01min\u001b[39;00m \u001b[38;5;28menumerate\u001b[39m(time_vec):\n\u001b[1;32m     18\u001b[0m     \u001b[38;5;28;01mfor\u001b[39;00m n \u001b[38;5;129;01min\u001b[39;00m \u001b[38;5;28mrange\u001b[39m(\u001b[38;5;28mlen\u001b[39m(area_sims)):\n\u001b[0;32m---> 19\u001b[0m         eta \u001b[38;5;241m=\u001b[39m np\u001b[38;5;241m.\u001b[39mrandom\u001b[38;5;241m.\u001b[39mmultivariate_normal(mu,Cov)\n\u001b[1;32m     20\u001b[0m         r1 \u001b[38;5;241m=\u001b[39m freq_scale_x\u001b[38;5;241m*\u001b[39m(params_x[\u001b[38;5;241m0\u001b[39m]\u001b[38;5;241m/\u001b[39m\u001b[38;5;241m2\u001b[39m\u001b[38;5;241m+\u001b[39mparams_x[\u001b[38;5;241m1\u001b[39m]\u001b[38;5;241m*\u001b[39mnp\u001b[38;5;241m.\u001b[39mcos(time_curr\u001b[38;5;241m*\u001b[39mw\u001b[38;5;241m-\u001b[39mparams_x[\u001b[38;5;241m3\u001b[39m])\u001b[38;5;241m+\u001b[39mparams_x[\u001b[38;5;241m2\u001b[39m]\u001b[38;5;241m*\u001b[39mnp\u001b[38;5;241m.\u001b[39mcos(\u001b[38;5;241m2\u001b[39m\u001b[38;5;241m*\u001b[39mtime_curr\u001b[38;5;241m*\u001b[39mw\u001b[38;5;241m-\u001b[39mparams_x[\u001b[38;5;241m4\u001b[39m]));\n\u001b[1;32m     21\u001b[0m         r2 \u001b[38;5;241m=\u001b[39m freq_scale_y\u001b[38;5;241m*\u001b[39m(params_y[\u001b[38;5;241m0\u001b[39m]\u001b[38;5;241m/\u001b[39m\u001b[38;5;241m2\u001b[39m\u001b[38;5;241m+\u001b[39mparams_y[\u001b[38;5;241m1\u001b[39m]\u001b[38;5;241m*\u001b[39mnp\u001b[38;5;241m.\u001b[39mcos(time_curr\u001b[38;5;241m*\u001b[39mw\u001b[38;5;241m-\u001b[39mparams_y[\u001b[38;5;241m3\u001b[39m])\u001b[38;5;241m+\u001b[39mparams_y[\u001b[38;5;241m2\u001b[39m]\u001b[38;5;241m*\u001b[39mnp\u001b[38;5;241m.\u001b[39mcos(\u001b[38;5;241m2\u001b[39m\u001b[38;5;241m*\u001b[39mtime_curr\u001b[38;5;241m*\u001b[39mw\u001b[38;5;241m-\u001b[39mparams_y[\u001b[38;5;241m4\u001b[39m]));\n",
      "File \u001b[0;32mnumpy/random/mtrand.pyx:4209\u001b[0m, in \u001b[0;36mnumpy.random.mtrand.RandomState.multivariate_normal\u001b[0;34m()\u001b[0m\n",
      "\u001b[0;31mValueError\u001b[0m: mean and cov must have same length"
     ]
    }
   ],
   "source": [
    "time_vec = np.array([21,33])\n",
    "kde_sims_BC = kde_sims(Cry1_params,Bmal1_params,freq_scaleCry1,freq_scaleBmal1,beta_Cry1,beta_Bmal1,mu_BC,Cov_BC,AreaNormed_BC,time_vec)\n",
    "kde_sims_RC = kde_sims(Cry1_params,Nr1d1_params,freq_scaleCry1,freq_scaleNr1d1,beta_Cry1,beta_Nr1d1,mu_RC,Cov_RC,AreaNormed_RC,time_vec)\n",
    "         "
   ]
  },
  {
   "cell_type": "code",
   "execution_count": null,
   "id": "365d4432",
   "metadata": {},
   "outputs": [],
   "source": [
    "#%%\n",
    "def kde_empirical(Counts_x,Counts_y,jtime,time_vec):\n",
    "    \n",
    "    x1_vec = range(100)\n",
    "    x2_vec = range(100)\n",
    "    \n",
    "    kde_dat = np.zeros((len(x1_vec),len(x2_vec),len(time_vec)))\n",
    "\n",
    "    for k in range(len(time_vec)):\n",
    "        x = (Counts_x[jtime==time_vec[k]]).reshape(1,-1)\n",
    "        y = (Counts_y[jtime==time_vec[k]]).reshape(1,-1)\n",
    "        kde = stats.gaussian_kde(np.concatenate((x,y),axis=0))\n",
    "        for i, x1_curr in enumerate(x1_vec):\n",
    "            print(i)\n",
    "            for j, x2_curr in enumerate(x2_vec):\n",
    "                val = np.array([[x1_curr],[x2_curr]])\n",
    "                kde_dat[j,i,k] = kde(val)\n",
    "    return kde_dat"
   ]
  },
  {
   "cell_type": "code",
   "execution_count": null,
   "id": "607888aa",
   "metadata": {},
   "outputs": [],
   "source": [
    "kde_dat_BC = kde_empirical(CountsBmal1_BC,CountsCry1_BC,jtime_BC,time_vec) \n",
    "kde_dat_RC = kde_empirical(CountsNr1d1_RC,CountsCry1_RC,jtime_RC,time_vec)               \n",
    "                \n",
    "#%%\n",
    "#fig = plt.figure(figsize=(3*len(time_vec),3))\n",
    "for z in range(len(time_vec)):\n",
    "    plt.subplot(5,4,4*z+13)   \n",
    "    plt.contour((kde_dat_BC[:,:,z]),cmap = 'jet',levels = 10)        \n",
    "    plt.ylabel('Cry1 mRNA')\n",
    "    if z == 0:\n",
    "        plt.title('Data') \n",
    "    if z != 1:\n",
    "        plt.gca().axes.xaxis.set_ticklabels([])\n",
    "    if z ==1:\n",
    "        plt.xlabel('Bmal1 mRNA') \n",
    "    plt.ylim([0, 40])\n",
    "    plt.xticks(np.arange(0, 101, step=25))\n",
    "\n",
    "for z in range(len(time_vec)):\n",
    "    plt.subplot(5,4,4*z+14)   \n",
    "    plt.contour(np.transpose(kde_sims_BC[:,:,z]),cmap = 'jet',levels = 10)        \n",
    "    if z == 0:\n",
    "        plt.title('Model') \n",
    "    if z != 1:\n",
    "        plt.gca().axes.xaxis.set_ticklabels([])\n",
    "    plt.gca().axes.yaxis.set_ticklabels([])\n",
    "    if z == 1:\n",
    "        plt.xlabel('Bmal1 mRNA') \n",
    "    plt.ylim([0, 40])\n",
    "    plt.xticks(np.arange(0, 101, step=25))       \n",
    "    \n",
    "    \n",
    "for z in range(len(time_vec)):\n",
    "    plt.subplot(5,4,4*z+15)   \n",
    "    plt.contour((kde_dat_RC[:,:,z]),cmap = 'jet',levels = 10)        \n",
    "    plt.ylabel('Cry1 mRNA')\n",
    "    if z == 0:\n",
    "        plt.title('Data') \n",
    "    if z != 1:\n",
    "        plt.gca().axes.xaxis.set_ticklabels([])\n",
    "    plt.gca().axes.yaxis.set_ticklabels([])\n",
    "    if z == 1:\n",
    "        plt.xlabel('Nr1d1 mRNA') \n",
    "    plt.ylim([0, 40])\n",
    "    plt.xticks(np.arange(0, 101, step=25))\n",
    "\n",
    "for z in range(len(time_vec)):\n",
    "    plt.subplot(5,4,4*z+16)   \n",
    "    plt.contour(np.transpose(kde_sims_RC[:,:,z]),cmap = 'jet',levels = 10)        \n",
    "    if z == 0:\n",
    "        plt.title('Model') \n",
    "    if z != 1:\n",
    "        plt.gca().axes.xaxis.set_ticklabels([])\n",
    "    plt.gca().axes.yaxis.set_ticklabels([])\n",
    "    if z ==1:\n",
    "        plt.xlabel('Nr1d1 mRNA') \n",
    "    plt.ylim([0, 40])\n",
    "    plt.xticks(np.arange(0, 101, step=25))    \n",
    "    \n",
    "    \n",
    "plt.tight_layout()    "
   ]
  },
  {
   "cell_type": "code",
   "execution_count": null,
   "id": "0ac4cf3b",
   "metadata": {},
   "outputs": [],
   "source": []
  }
 ],
 "metadata": {
  "kernelspec": {
   "display_name": "Python 3 (ipykernel)",
   "language": "python",
   "name": "python3"
  },
  "language_info": {
   "codemirror_mode": {
    "name": "ipython",
    "version": 3
   },
   "file_extension": ".py",
   "mimetype": "text/x-python",
   "name": "python",
   "nbconvert_exporter": "python",
   "pygments_lexer": "ipython3",
   "version": "3.11.5"
  },
  "toc": {
   "base_numbering": 1,
   "nav_menu": {},
   "number_sections": true,
   "sideBar": true,
   "skip_h1_title": false,
   "title_cell": "Table of Contents",
   "title_sidebar": "Contents",
   "toc_cell": false,
   "toc_position": {},
   "toc_section_display": true,
   "toc_window_display": false
  }
 },
 "nbformat": 4,
 "nbformat_minor": 5
}
